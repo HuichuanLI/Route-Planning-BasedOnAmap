{
 "cells": [
  {
   "cell_type": "code",
   "execution_count": 1,
   "metadata": {},
   "outputs": [],
   "source": [
    "import route\n",
    "import pandas as pd\n",
    "\n",
    "def get_nearest_subwaystation(data, location1):\n",
    "    distance = float('inf')\n",
    "    #print(location1[0], location1[1])\n",
    "    nearest = None\n",
    "    for i in range(data.shape[0]):\n",
    "        site1 = data.loc[i, 'name']\n",
    "        longitude, latitude = float(data.loc[i, 'longitude']), float(data.loc[i, 'latitude'])\n",
    "        temp = (float(location1[0]) - longitude)** 2 + (float(location1[1]) - latitude) ** 2\n",
    "        if temp < distance:\n",
    "            distance = temp\n",
    "            nearest = site1\n",
    "    return nearest"
   ]
  },
  {
   "cell_type": "code",
   "execution_count": 2,
   "metadata": {},
   "outputs": [],
   "source": [
    "def compute(site1, site2,city='上海'):\n",
    "    # 计算site1的location\n",
    "    location1 = route.get_location(site1, city)\n",
    "    #print(location1)\n",
    "    location2 = route.get_location(site2, city)\n",
    "    # 计算site1最近的地铁站start\n",
    "    data = pd.read_csv('./subway.csv')\n",
    "    start = get_nearest_subwaystation(data, location1)\n",
    "    end = get_nearest_subwaystation(data, location2)\n",
    "    shortest_path = []\n",
    "    print('{}最近的地铁站是{}'.format(site1, start))\n",
    "    print('{}最近的地铁站是{}'.format(site2, end))\n",
    "    shortest_path = route.dijkstra(start, end)\n",
    "    if site1 != start:\n",
    "        shortest_path.insert(0, site1)\n",
    "    if site2 != end:\n",
    "        shortest_path.append(site2)\n",
    "    print('从{}到{}的最优路径为{}'.format(site1, site2, shortest_path))"
   ]
  },
  {
   "cell_type": "code",
   "execution_count": 3,
   "metadata": {},
   "outputs": [
    {
     "name": "stdout",
     "output_type": "stream",
     "text": [
      "九亭最近的地铁站是九亭站\n",
      "人民广场最近的地铁站是人民广场站\n",
      "从九亭站到人民广场站的最短路径：['九亭站', '中春路站', '七宝站', '星中路站', '合川路站', '漕河泾开发区站', '桂林路站', '宜山路站', '徐家汇站', '衡山路站', '常熟路站', '陕西南路站', '黄陂南路站', '人民广场站']\n",
      "总距离:30099.0\n",
      "从九亭到人民广场的最优路径为['九亭', '九亭站', '中春路站', '七宝站', '星中路站', '合川路站', '漕河泾开发区站', '桂林路站', '宜山路站', '徐家汇站', '衡山路站', '常熟路站', '陕西南路站', '黄陂南路站', '人民广场站', '人民广场']\n"
     ]
    }
   ],
   "source": [
    "compute('九亭', '人民广场')"
   ]
  },
  {
   "cell_type": "code",
   "execution_count": null,
   "metadata": {},
   "outputs": [],
   "source": []
  }
 ],
 "metadata": {
  "kernelspec": {
   "display_name": "Python 3",
   "language": "python",
   "name": "python3"
  },
  "language_info": {
   "codemirror_mode": {
    "name": "ipython",
    "version": 3
   },
   "file_extension": ".py",
   "mimetype": "text/x-python",
   "name": "python",
   "nbconvert_exporter": "python",
   "pygments_lexer": "ipython3",
   "version": "3.7.3"
  }
 },
 "nbformat": 4,
 "nbformat_minor": 2
}
